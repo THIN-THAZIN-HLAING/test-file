{
 "cells": [
  {
   "cell_type": "markdown",
   "id": "ca186ff1-635d-4e88-85a0-191dd0c4e21a",
   "metadata": {},
   "source": [
    "# Data Science Tools and Ecosystem"
   ]
  },
  {
   "cell_type": "markdown",
   "id": "10007bea-a085-4f4b-b193-3e0f4cf796a7",
   "metadata": {},
   "source": [
    "In this notebook, Data Science and Ecosystem are summarized."
   ]
  },
  {
   "cell_type": "markdown",
   "id": "48ff06db-08c4-4f58-9509-27e1e4615e6e",
   "metadata": {},
   "source": [
    "**Objectives:**"
   ]
  },
  {
   "cell_type": "markdown",
   "id": "37960afa-544b-4983-9d11-b6a4a7ae3237",
   "metadata": {},
   "source": [
    "- List popular languages for Data Science\n",
    "- List popular libraries for Data Science\n",
    "- List popular environments for Data Science"
   ]
  },
  {
   "cell_type": "markdown",
   "id": "6d0c285b-a723-4400-9d2b-5c6ba9c97fa4",
   "metadata": {},
   "source": [
    "Some of the popular languages that Data Scientists use are:\n",
    "1. Python\n",
    "2. R\n",
    "3. JavaScript\n",
    "4. S"
   ]
  },
  {
   "cell_type": "markdown",
   "id": "ea9a2ddb-2447-4946-882f-a27975738446",
   "metadata": {},
   "source": [
    "Some of the commonly used libraries used by Data Scinetists include:\n",
    "1. Numpy\n",
    "2. Pandas\n",
    "3. Matplolib\n",
    "4. Saeborn\n"
   ]
  },
  {
   "cell_type": "markdown",
   "id": "00786bb6-7f7f-4999-a133-a86899c684db",
   "metadata": {},
   "source": [
    "|Data Science Tools|\n",
    "|-----|\n",
    "|Anaconda|\n",
    "|Jupyter Notebook|\n",
    "|Visual Studio Code (Vs Code)|\n"
   ]
  },
  {
   "cell_type": "code",
   "execution_count": null,
   "id": "2665ba59-205e-480c-8117-8086180c7f4c",
   "metadata": {},
   "outputs": [],
   "source": []
  },
  {
   "cell_type": "markdown",
   "id": "fc8f9f7b-308e-446f-abb3-e91f327af4f9",
   "metadata": {},
   "source": [
    "### Below are a few examples of evaluating arithmetic expressions in Python.\n"
   ]
  },
  {
   "cell_type": "markdown",
   "id": "9b4495cd-61a9-4721-ae2d-0094f6dc1d52",
   "metadata": {},
   "source": [
    "This a simple arithmetic expression to mutiply then add integers"
   ]
  },
  {
   "cell_type": "code",
   "execution_count": 3,
   "id": "b5427af6-248d-4f6a-9ff7-c703027f10e5",
   "metadata": {},
   "outputs": [
    {
     "data": {
      "text/plain": [
       "17"
      ]
     },
     "execution_count": 3,
     "metadata": {},
     "output_type": "execute_result"
    }
   ],
   "source": [
    "(3*4)+5"
   ]
  },
  {
   "cell_type": "markdown",
   "id": "fb7410a8-d442-4812-8673-8418776329be",
   "metadata": {},
   "source": [
    "This will convert 200 minutes to hours by diving by 60"
   ]
  },
  {
   "cell_type": "code",
   "execution_count": 4,
   "id": "206e50f2-7327-4346-a9f1-d8755d232877",
   "metadata": {},
   "outputs": [
    {
     "data": {
      "text/plain": [
       "3.3333333333333335"
      ]
     },
     "execution_count": 4,
     "metadata": {},
     "output_type": "execute_result"
    }
   ],
   "source": [
    "200/60"
   ]
  },
  {
   "cell_type": "markdown",
   "id": "0a84b1ad-6492-4dec-bc0d-f5667dd7b953",
   "metadata": {},
   "source": [
    "## Author"
   ]
  },
  {
   "cell_type": "markdown",
   "id": "9de2b787-8d78-4728-b898-10b420d0ed2a",
   "metadata": {},
   "source": [
    "THIN THAZIN HLAING"
   ]
  },
  {
   "cell_type": "code",
   "execution_count": null,
   "id": "7b06c246-278c-4c31-8cb8-69e839f525e0",
   "metadata": {},
   "outputs": [],
   "source": []
  }
 ],
 "metadata": {
  "kernelspec": {
   "display_name": "Python 3 (ipykernel)",
   "language": "python",
   "name": "python3"
  },
  "language_info": {
   "codemirror_mode": {
    "name": "ipython",
    "version": 3
   },
   "file_extension": ".py",
   "mimetype": "text/x-python",
   "name": "python",
   "nbconvert_exporter": "python",
   "pygments_lexer": "ipython3",
   "version": "3.11.5"
  }
 },
 "nbformat": 4,
 "nbformat_minor": 5
}
